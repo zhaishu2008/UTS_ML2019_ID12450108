{
  "nbformat": 4,
  "nbformat_minor": 0,
  "metadata": {
    "colab": {
      "name": "SVM-LBP.ipynb",
      "provenance": [],
      "include_colab_link": true
    },
    "kernelspec": {
      "name": "python3",
      "display_name": "Python 3"
    }
  },
  "cells": [
    {
      "cell_type": "markdown",
      "metadata": {
        "id": "view-in-github",
        "colab_type": "text"
      },
      "source": [
        "<a href=\"https://colab.research.google.com/github/zhaishu2008/UTS_ML2019_ID12450108/blob/master/SVM_LBP.ipynb\" target=\"_parent\"><img src=\"https://colab.research.google.com/assets/colab-badge.svg\" alt=\"Open In Colab\"/></a>"
      ]
    },
    {
      "cell_type": "code",
      "metadata": {
        "id": "bBlhjGU48uSm",
        "colab_type": "code",
        "colab": {}
      },
      "source": [
        "# encoding: utf-8"
      ],
      "execution_count": 0,
      "outputs": []
    },
    {
      "cell_type": "code",
      "metadata": {
        "id": "e2v4fNGB81Uc",
        "colab_type": "code",
        "colab": {}
      },
      "source": [
        "import numpy as np\n",
        "%matplotlib inline\n",
        "import matplotlib.pyplot as plt\n",
        "# importing a module for splitting a dataset into train, and test\n",
        "from sklearn.model_selection import train_test_split\n",
        "from sklearn import svm \n",
        "# confusion metric\n",
        "from sklearn import metrics\n",
        "from skimage import feature\n",
        "import cv2\n",
        "import seaborn as sns"
      ],
      "execution_count": 0,
      "outputs": []
    },
    {
      "cell_type": "markdown",
      "metadata": {
        "id": "SRg5g3w86UOM",
        "colab_type": "text"
      },
      "source": [
        "## **Connect to My Drive**\n",
        "\n"
      ]
    },
    {
      "cell_type": "code",
      "metadata": {
        "id": "AN6VAikz9gNi",
        "colab_type": "code",
        "outputId": "c7709b9d-b1e0-4d44-8821-2f6eb808466a",
        "colab": {
          "base_uri": "https://localhost:8080/",
          "height": 34
        }
      },
      "source": [
        "from google.colab import drive\n",
        "drive.mount('/content/gdrive')"
      ],
      "execution_count": 0,
      "outputs": [
        {
          "output_type": "stream",
          "text": [
            "Drive already mounted at /content/gdrive; to attempt to forcibly remount, call drive.mount(\"/content/gdrive\", force_remount=True).\n"
          ],
          "name": "stdout"
        }
      ]
    },
    {
      "cell_type": "code",
      "metadata": {
        "id": "q2YgKute-ITk",
        "colab_type": "code",
        "colab": {}
      },
      "source": [
        "def load_mnist(path, kind='train'):\n",
        "    import os\n",
        "    import gzip\n",
        "    import numpy as np\n",
        "\n",
        "    \"\"\"Load MNIST data from `path`\"\"\"\n",
        "    labels_path = os.path.join(path,\n",
        "                               '%s-labels-idx1-ubyte.gz'\n",
        "                               % kind)\n",
        "    images_path = os.path.join(path,\n",
        "                               '%s-images-idx3-ubyte.gz'\n",
        "                               % kind)\n",
        "\n",
        "    with gzip.open(labels_path, 'rb') as lbpath:\n",
        "        labels = np.frombuffer(lbpath.read(), dtype=np.uint8,\n",
        "                               offset=8)\n",
        "\n",
        "    with gzip.open(images_path, 'rb') as imgpath:\n",
        "        images = np.frombuffer(imgpath.read(), dtype=np.uint8,\n",
        "                               offset=16).reshape(len(labels), 784)\n",
        "\n",
        "    return images, labels\n"
      ],
      "execution_count": 0,
      "outputs": []
    },
    {
      "cell_type": "code",
      "metadata": {
        "id": "BdSfC-SoCnWs",
        "colab_type": "code",
        "outputId": "97122f7b-c4c9-4e6c-acca-022ea2ccd91a",
        "colab": {
          "base_uri": "https://localhost:8080/",
          "height": 34
        }
      },
      "source": [
        "cd /content/gdrive/My Drive/data/assessment !"
      ],
      "execution_count": 0,
      "outputs": [
        {
          "output_type": "stream",
          "text": [
            "/content/gdrive/My Drive/data/assessment !\n"
          ],
          "name": "stdout"
        }
      ]
    },
    {
      "cell_type": "code",
      "metadata": {
        "id": "SvSNyF-WCqFK",
        "colab_type": "code",
        "outputId": "a3d035a6-2932-4349-8334-446aa14cd58f",
        "colab": {
          "base_uri": "https://localhost:8080/",
          "height": 408
        }
      },
      "source": [
        "ls"
      ],
      "execution_count": 0,
      "outputs": [
        {
          "output_type": "stream",
          "text": [
            " ANN.ipynb\n",
            "'Handcrafted Feature Extraction_ Part-1.ipynb'\n",
            "'Handcrafted Feature Extraction_ Part-1-Solution.ipynb'\n",
            "'Handcrafted Feature Extraction_ Part-2-Solution.ipynb'\n",
            " KNN-HOG.ipynb\n",
            " knn-LBP.ipynb\n",
            " LogisticRegression-NeuralNetwork-Part-1-Solution.ipynb\n",
            " \u001b[0m\u001b[01;34mMnist\u001b[0m/\n",
            "'Python-additional-warmup-solution(1).ipynb'\n",
            " SVM-HOG.ipynb\n",
            " SVM-LBP.ipynb\n",
            " \u001b[01;34mt10k-images-idx3-ubyte\u001b[0m/\n",
            " t10k-images-idx3-ubyte.gz\n",
            " \u001b[01;34mt10k-labels-idx1-ubyte\u001b[0m/\n",
            " t10k-labels-idx1-ubyte.gz\n",
            " \u001b[01;34mtrain-images-idx3-ubyte\u001b[0m/\n",
            " train-images-idx3-ubyte.gz\n",
            " \u001b[01;34mtrain-labels-idx1-ubyte\u001b[0m/\n",
            " train-labels-idx1-ubyte.gz\n",
            " Week3-Lab2-EdgeDetection-Solution.ipynb\n",
            " Week3-Lab2-MachineLearning-Solution.ipynb\n",
            " Week5-LogisticRegression-NeuralNetwork-Part-2-Solution.ipynb\n",
            "'Week6-ConvolutionalNeuralNetworks(CNNs)-Solution.ipynb'\n"
          ],
          "name": "stdout"
        }
      ]
    },
    {
      "cell_type": "code",
      "metadata": {
        "id": "vaNAUVXG3N6G",
        "colab_type": "code",
        "colab": {}
      },
      "source": [
        "X_train, y_train = load_mnist('/content/gdrive/My Drive/data/assessment !', kind='train')\n",
        "X_test, y_test = load_mnist('/content/gdrive/My Drive/data/assessment !', kind='t10k')\n",
        "# initialize the label names from Fashion MNIST github repository\n",
        "\n",
        "labelNames = [\"top\", \"trouser\", \"pullover\", \"dress\", \"coat\",\n",
        "\t\"sandal\", \"shirt\", \"sneaker\", \"bag\", \"ankle boot\"]"
      ],
      "execution_count": 0,
      "outputs": []
    },
    {
      "cell_type": "code",
      "metadata": {
        "id": "zblqCRiW3Q1W",
        "colab_type": "code",
        "outputId": "267367a3-a58a-49df-80f6-dcf6d6536bb8",
        "colab": {
          "base_uri": "https://localhost:8080/",
          "height": 51
        }
      },
      "source": [
        "print(np.shape(X_train))\n",
        "print(np.shape(X_test))"
      ],
      "execution_count": 0,
      "outputs": [
        {
          "output_type": "stream",
          "text": [
            "(60000, 784)\n",
            "(10000, 784)\n"
          ],
          "name": "stdout"
        }
      ]
    },
    {
      "cell_type": "code",
      "metadata": {
        "id": "sLwFhmcg3Smc",
        "colab_type": "code",
        "outputId": "f8457245-76c8-4dab-c52d-7e2b21bc38bf",
        "colab": {
          "base_uri": "https://localhost:8080/",
          "height": 51
        }
      },
      "source": [
        "X_train=X_train.reshape(-1,28,28)\n",
        "X_test=X_test.reshape(-1,28,28)\n",
        "\n",
        "# print the size of the result reshaped train and test data splits\n",
        "\n",
        "print(\"Train dataset after reshaping:{}\".format(np.shape(X_train)))\n",
        "print(\"Test dataset after reshaping :{}\".format(np.shape(X_test)))"
      ],
      "execution_count": 0,
      "outputs": [
        {
          "output_type": "stream",
          "text": [
            "Train dataset after reshaping:(60000, 28, 28)\n",
            "Test dataset after reshaping :(10000, 28, 28)\n"
          ],
          "name": "stdout"
        }
      ]
    },
    {
      "cell_type": "markdown",
      "metadata": {
        "id": "75WENF2l3X-w",
        "colab_type": "text"
      },
      "source": [
        "Visualization of Dataset"
      ]
    },
    {
      "cell_type": "code",
      "metadata": {
        "id": "LT-ILL1A3ViG",
        "colab_type": "code",
        "outputId": "205f0ce5-2608-4ce4-ae50-8ef4abbb0dee",
        "colab": {
          "base_uri": "https://localhost:8080/",
          "height": 336
        }
      },
      "source": [
        "# view few images and print its corresponding label\n",
        "img_index = 10\n",
        "fig = plt.figure()\n",
        "ax1 = fig.add_subplot(2,2,1)\n",
        "ax1.axis('off')\n",
        "ax1.imshow(X_train[img_index])\n",
        "print(labelNames[y_train[img_index]])\n",
        "\n",
        "ax2 = fig.add_subplot(2,2,2)\n",
        "ax2.axis('off')\n",
        "img_index = 1000\n",
        "ax2.imshow(X_train[img_index])\n",
        "print(labelNames[y_train[img_index]])\n",
        "\n",
        "ax2 = fig.add_subplot(2,2,3)\n",
        "ax2.axis('off')\n",
        "img_index = 20000\n",
        "ax2.imshow(X_train[img_index])\n",
        "print(labelNames[y_train[img_index]])\n",
        "\n",
        "ax2 = fig.add_subplot(2,2,4)\n",
        "ax2.axis('off')\n",
        "img_index = 30000\n",
        "ax2.imshow(X_train[img_index])\n",
        "print(labelNames[y_train[img_index]])"
      ],
      "execution_count": 0,
      "outputs": [
        {
          "output_type": "stream",
          "text": [
            "top\n",
            "trouser\n",
            "sneaker\n",
            "dress\n"
          ],
          "name": "stdout"
        },
        {
          "output_type": "display_data",
          "data": {
            "image/png": "[encoded data removed]",
            "text/plain": [
              "<Figure size 432x288 with 4 Axes>"
            ]
          },
          "metadata": {
            "tags": []
          }
        }
      ]
    },
    {
      "cell_type": "markdown",
      "metadata": {
        "id": "jizMsavE3dBh",
        "colab_type": "text"
      },
      "source": [
        " Local Binary Patterns (LBP) class definition for LBP feature extraction"
      ]
    },
    {
      "cell_type": "code",
      "metadata": {
        "id": "oXoDJ_v-3dpr",
        "colab_type": "code",
        "colab": {}
      },
      "source": [
        "class LocalBinaryPatterns:\n",
        "\tdef __init__(self, numPoints, radius):\n",
        "\t\t# store the number of points and radius\n",
        "\t\tself.numPoints = numPoints\n",
        "\t\tself.radius = radius\n",
        " \n",
        "\tdef LBPfeatures(self, image, eps=1e-7):\n",
        "\t\t# compute the Local Binary Pattern representation\n",
        "\t\t# of the image, and then use the LBP representation\n",
        "\t\t# to build the histogram of patterns\n",
        "\t\tlbp = feature.local_binary_pattern(image, self.numPoints,\n",
        "\t\t\tself.radius, method=\"uniform\")\n",
        "    # Form the histogram\n",
        "\t\t(hist, _) = np.histogram(lbp.ravel(),\n",
        "\t\t\tbins=np.arange(0, self.numPoints + 3),\n",
        "\t\t\trange=(0, self.numPoints + 2))\n",
        " \n",
        "\t\t# normalize the histogram\n",
        "\t\thist = hist.astype(\"float\")\n",
        "\t\thist /= (hist.sum() + eps)\n",
        " \n",
        "\t\t# return the histogram of Local Binary Patterns\n",
        "\t\treturn hist"
      ],
      "execution_count": 0,
      "outputs": []
    },
    {
      "cell_type": "markdown",
      "metadata": {
        "id": "suz0JAb93fJd",
        "colab_type": "text"
      },
      "source": [
        "LBP feature extraction for the whole training dataset"
      ]
    },
    {
      "cell_type": "code",
      "metadata": {
        "id": "Za7FEWVG7BC0",
        "colab_type": "code",
        "outputId": "aded6987-9291-4b58-8a6b-64836f0b3ca1",
        "colab": {
          "base_uri": "https://localhost:8080/",
          "height": 51
        }
      },
      "source": [
        "# Create an object of LocalBinaryPatterns class and initial the parameters.\n",
        "desc = LocalBinaryPatterns(24, 8)\n",
        "data_train = []\n",
        "labels_train = []\n",
        "\n",
        "# loop over the training images\n",
        "for img_index in range(len(X_train)):\n",
        "\t# load the image, convert it to grayscale, and extract LBP features\n",
        "\timage = (X_train[img_index])\n",
        "\thist = desc.LBPfeatures(image)\n",
        " \n",
        "\t# extract the label from the image path, then update the\n",
        "\t# label and data lists\n",
        "\tlabels_train.append(y_train[img_index])\n",
        "\tdata_train.append(hist)\n",
        "  \n",
        "print(np.shape(data_train))\n",
        "print(np.shape(labels_train))"
      ],
      "execution_count": 0,
      "outputs": [
        {
          "output_type": "stream",
          "text": [
            "(60000, 26)\n",
            "(60000,)\n"
          ],
          "name": "stdout"
        }
      ]
    },
    {
      "cell_type": "markdown",
      "metadata": {
        "id": "EpVG10SK7Egd",
        "colab_type": "text"
      },
      "source": [
        "SVM Train"
      ]
    },
    {
      "cell_type": "markdown",
      "metadata": {
        "id": "PwLp9uJV7WvN",
        "colab_type": "text"
      },
      "source": [
        "Step-1: Train SVM Classifier using the training dataset"
      ]
    },
    {
      "cell_type": "code",
      "metadata": {
        "id": "qdxjhrpUkDWV",
        "colab_type": "code",
        "outputId": "19c1fcd5-0fb0-455f-c01f-1a0ecb8aaa6f",
        "colab": {
          "base_uri": "https://localhost:8080/",
          "height": 105
        }
      },
      "source": [
        "model = svm.SVC(kernel='rbf',C=1.0, random_state=100) # rbf Kernel\n",
        "# Start training the SVM classifier \n",
        "model.fit(data_train, labels_train)\n",
        "\n",
        "print(np.shape(data_train))\n",
        "print(np.shape(labels_train))"
      ],
      "execution_count": 0,
      "outputs": [
        {
          "output_type": "stream",
          "text": [
            "/usr/local/lib/python3.6/dist-packages/sklearn/svm/base.py:196: FutureWarning: The default value of gamma will change from 'auto' to 'scale' in version 0.22 to account better for unscaled features. Set gamma explicitly to 'auto' or 'scale' to avoid this warning.\n",
            "  \"avoid this warning.\", FutureWarning)\n"
          ],
          "name": "stderr"
        },
        {
          "output_type": "stream",
          "text": [
            "(60000, 26)\n",
            "(60000,)\n"
          ],
          "name": "stdout"
        }
      ]
    },
    {
      "cell_type": "code",
      "metadata": {
        "id": "2sEo8HR_7Yfn",
        "colab_type": "code",
        "outputId": "8d9486b2-b23f-45f9-d986-eebfb06f302f",
        "colab": {
          "base_uri": "https://localhost:8080/",
          "height": 34
        }
      },
      "source": [
        "# Check the training accuray\n",
        "print(\"Train set Accuracy: {:.2f}\".format(model.score(data_train,labels_train)))"
      ],
      "execution_count": 0,
      "outputs": [
        {
          "output_type": "stream",
          "text": [
            "Train set Accuracy: 0.10\n"
          ],
          "name": "stdout"
        }
      ]
    },
    {
      "cell_type": "markdown",
      "metadata": {
        "id": "qtqohciG7aUM",
        "colab_type": "text"
      },
      "source": [
        "Step-2: Evaluation of trained SVM model on test dataset"
      ]
    },
    {
      "cell_type": "code",
      "metadata": {
        "id": "RgXHgmn6194x",
        "colab_type": "code",
        "colab": {}
      },
      "source": [
        "predictions=[]\n",
        "predict_label=[]\n",
        "# Exract LBP features for each test sample and classify it with the trained SVM classifier\n",
        "for im_index in range(len(X_test)):\n",
        "  imag = X_test[im_index]\n",
        "  # Extract LBP feature\n",
        "  histo = desc.LBPfeatures(imag)\n",
        "  # Perform classification\n",
        "  prediction = model.predict(histo.reshape(1, -1))\n",
        "  # Store the classfication result\n",
        "  predictions.append(prediction)\n",
        "  predict_label.append(y_test[im_index])"
      ],
      "execution_count": 0,
      "outputs": []
    },
    {
      "cell_type": "code",
      "metadata": {
        "id": "Fvs74gn8Svr0",
        "colab_type": "code",
        "outputId": "51ad7b36-db32-413a-bfcc-c25453f23ce0",
        "colab": {
          "base_uri": "https://localhost:8080/",
          "height": 34
        }
      },
      "source": [
        "accuracy = metrics.accuracy_score(predict_label, predictions)\n",
        "print(\"Accuracy on test dataset:\",accuracy)"
      ],
      "execution_count": 0,
      "outputs": [
        {
          "output_type": "stream",
          "text": [
            "Accuracy on test dataset: 0.0988\n"
          ],
          "name": "stdout"
        }
      ]
    },
    {
      "cell_type": "code",
      "metadata": {
        "id": "vtLcoUqKSxiX",
        "colab_type": "code",
        "outputId": "08e75206-d199-48cd-e5df-4133b0033e7c",
        "colab": {
          "base_uri": "https://localhost:8080/",
          "height": 700
        }
      },
      "source": [
        "# plot the confusion matrix\n",
        "cm  = metrics.confusion_matrix(predict_label, predictions)\n",
        "print(cm)\n",
        "\n",
        "# Plot confusion matrix using seaborn library\n",
        "plt.figure(figsize=(9,9))\n",
        "sns.heatmap(cm, annot=True, fmt=\".3f\", linewidths=.5, square = True, cmap = 'Blues_r');\n",
        "plt.ylabel('Actual label');\n",
        "plt.xlabel('Predicted label');\n",
        "all_sample_title = 'Accuracy Score: {0}'.format(accuracy)\n",
        "plt.title(all_sample_title, size = 15);"
      ],
      "execution_count": 0,
      "outputs": [
        {
          "output_type": "stream",
          "text": [
            "[[  10    0    0    9  104    0  464    0  393    0]\n",
            " [   1    0    0    0    0    0 1134    0    0    0]\n",
            " [  30    0    0    1  155    0  807    0   39    0]\n",
            " [   4    0    0    7  115    0  771    0  113    0]\n",
            " [   0    0    0    1   35    0  921    0   25    0]\n",
            " [  10    0    0    3   63    0  748    0   68    0]\n",
            " [  12    0    0    5   88    0  767    0   86    0]\n",
            " [   2    0    0    0   15    0 1010    0    1    0]\n",
            " [   8    0    0    1   80    0  716    0  169    0]\n",
            " [   1    0    0    5   10    0  940    0   53    0]]\n"
          ],
          "name": "stdout"
        },
        {
          "output_type": "display_data",
          "data": {
            "image/png": "[encoded data removed]",
            "text/plain": [
              "<Figure size 648x648 with 2 Axes>"
            ]
          },
          "metadata": {
            "tags": []
          }
        }
      ]
    },
    {
      "cell_type": "code",
      "metadata": {
        "id": "mA1jIgdcS0Oj",
        "colab_type": "code",
        "colab": {}
      },
      "source": [
        "# Display the some classification result on test samples\n",
        "images = []\n",
        " \n",
        "# randomly select a few testing fashion items\n",
        "for i in np.random.choice(np.arange(0, len(y_test)), size=(16,)):\n",
        "  # classify the clothing\n",
        "  histog = desc.LBPfeatures(X_test[i])\n",
        "  prediction = model.predict(histog.reshape(1, -1))\n",
        "  label = labelNames[prediction[0]]\n",
        "  orig_label=labelNames[y_test[i]]\n",
        "  image = X_test[i]\n",
        "  color = (0, 255, 0)\n",
        "  image = cv2.merge([image] * 3)\n",
        "  image = cv2.resize(image, (96, 96), interpolation=cv2.INTER_LINEAR)\n",
        "  cv2.putText(image, label, (5, 20), cv2.FONT_HERSHEY_SIMPLEX, 0.50, color, 2)\n",
        "  images.append(image)"
      ],
      "execution_count": 0,
      "outputs": []
    },
    {
      "cell_type": "code",
      "metadata": {
        "id": "COkZKfn0S1lW",
        "colab_type": "code",
        "outputId": "89f3fdbf-7478-4f8d-ed37-83d9db81f3af",
        "colab": {
          "base_uri": "https://localhost:8080/",
          "height": 34
        }
      },
      "source": [
        "np.shape(images[1])"
      ],
      "execution_count": 0,
      "outputs": [
        {
          "output_type": "execute_result",
          "data": {
            "text/plain": [
              "(96, 96, 3)"
            ]
          },
          "metadata": {
            "tags": []
          },
          "execution_count": 72
        }
      ]
    },
    {
      "cell_type": "code",
      "metadata": {
        "id": "Zde7OrB_S3O0",
        "colab_type": "code",
        "outputId": "9d77831a-3c89-45c0-b31c-73095fe8855d",
        "colab": {
          "base_uri": "https://localhost:8080/",
          "height": 303
        }
      },
      "source": [
        "fig = plt.figure()\n",
        "ax1 = fig.add_subplot(2,2,1)\n",
        "ax1.imshow(images[1])\n",
        "print(orig_label[:])\n",
        "ax2 = fig.add_subplot(2,2,2)\n",
        "ax2.imshow(images[2])\n",
        "ax3 = fig.add_subplot(2,2,3)\n",
        "ax3.imshow(images[3])\n",
        "ax4 = fig.add_subplot(2,2,4)\n",
        "ax4.imshow(images[4])"
      ],
      "execution_count": 0,
      "outputs": [
        {
          "output_type": "stream",
          "text": [
            "coat\n"
          ],
          "name": "stdout"
        },
        {
          "output_type": "execute_result",
          "data": {
            "text/plain": [
              "<matplotlib.image.AxesImage at 0x7f5cdd0b5048>"
            ]
          },
          "metadata": {
            "tags": []
          },
          "execution_count": 73
        },
        {
          "output_type": "display_data",
          "data": {
            "image/png": "[encoded data removed]",
            "text/plain": [
              "<Figure size 432x288 with 4 Axes>"
            ]
          },
          "metadata": {
            "tags": []
          }
        }
      ]
    }
  ]
}