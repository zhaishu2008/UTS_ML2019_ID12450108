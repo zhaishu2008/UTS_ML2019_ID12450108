{
  "nbformat": 4,
  "nbformat_minor": 0,
  "metadata": {
    "colab": {
      "name": "KNN-HOG.ipynb",
      "provenance": [],
      "include_colab_link": true
    },
    "kernelspec": {
      "name": "python3",
      "display_name": "Python 3"
    },
    "accelerator": "GPU"
  },
  "cells": [
    {
      "cell_type": "markdown",
      "metadata": {
        "id": "view-in-github",
        "colab_type": "text"
      },
      "source": [
        "<a href=\"https://colab.research.google.com/github/zhaishu2008/UTS_ML2019_ID12450108/blob/master/KNN_HOG.ipynb\" target=\"_parent\"><img src=\"https://colab.research.google.com/assets/colab-badge.svg\" alt=\"Open In Colab\"/></a>"
      ]
    },
    {
      "cell_type": "code",
      "metadata": {
        "id": "0826WBioeZM4",
        "colab_type": "code",
        "colab": {}
      },
      "source": [
        "# encoding: utf-8"
      ],
      "execution_count": 0,
      "outputs": []
    },
    {
      "cell_type": "markdown",
      "metadata": {
        "id": "vaI4YFfaellQ",
        "colab_type": "text"
      },
      "source": [
        "Step 1: Import required packages"
      ]
    },
    {
      "cell_type": "code",
      "metadata": {
        "id": "u5fovY_hehwc",
        "colab_type": "code",
        "colab": {}
      },
      "source": [
        "import numpy as np\n",
        "import matplotlib.pyplot as plt\n",
        "from skimage import feature\n",
        "from sklearn import svm # This pacakge is used for svm classification\n",
        "from sklearn.utils import shuffle\n",
        "from sklearn.neighbors import KNeighborsClassifier\n",
        "from sklearn.model_selection import train_test_split\n",
        "from sklearn import metrics\n",
        "from sklearn.metrics import accuracy_score\n",
        "%matplotlib inline\n",
        "import cv2\n",
        "import seaborn as sns # This pacakge is used for better visualization of data (e.g confusion matrix)"
      ],
      "execution_count": 0,
      "outputs": []
    },
    {
      "cell_type": "markdown",
      "metadata": {
        "id": "G5BxoCbveqAK",
        "colab_type": "text"
      },
      "source": [
        "## **Connect to My Drive**\n",
        "\n"
      ]
    },
    {
      "cell_type": "code",
      "metadata": {
        "id": "_6OXq3T-e6kp",
        "colab_type": "code",
        "outputId": "aea88e2b-41e0-4ea0-e1c1-aae1028f7071",
        "colab": {
          "base_uri": "https://localhost:8080/",
          "height": 34
        }
      },
      "source": [
        "from google.colab import drive\n",
        "drive.mount('/content/gdrive')"
      ],
      "execution_count": 0,
      "outputs": [
        {
          "output_type": "stream",
          "text": [
            "Drive already mounted at /content/gdrive; to attempt to forcibly remount, call drive.mount(\"/content/gdrive\", force_remount=True).\n"
          ],
          "name": "stdout"
        }
      ]
    },
    {
      "cell_type": "code",
      "metadata": {
        "id": "d7ep9fJbe8cA",
        "colab_type": "code",
        "colab": {}
      },
      "source": [
        "def load_mnist(path, kind='train'):\n",
        "    import os\n",
        "    import gzip\n",
        "    import numpy as np\n",
        "\n",
        "    \"\"\"Load MNIST data from `path`\"\"\"\n",
        "    labels_path = os.path.join(path,\n",
        "                               '%s-labels-idx1-ubyte.gz'\n",
        "                               % kind)\n",
        "    images_path = os.path.join(path,\n",
        "                               '%s-images-idx3-ubyte.gz'\n",
        "                               % kind)\n",
        "\n",
        "    with gzip.open(labels_path, 'rb') as lbpath:\n",
        "        labels = np.frombuffer(lbpath.read(), dtype=np.uint8,\n",
        "                               offset=8)\n",
        "\n",
        "    with gzip.open(images_path, 'rb') as imgpath:\n",
        "        images = np.frombuffer(imgpath.read(), dtype=np.uint8,\n",
        "                               offset=16).reshape(len(labels), 784)\n",
        "\n",
        "    return images, labels"
      ],
      "execution_count": 0,
      "outputs": []
    },
    {
      "cell_type": "code",
      "metadata": {
        "id": "fKdJ3lD4e_1v",
        "colab_type": "code",
        "outputId": "c429373a-9851-4f41-9864-7386ad574913",
        "colab": {
          "base_uri": "https://localhost:8080/",
          "height": 34
        }
      },
      "source": [
        "cd /content/gdrive/My Drive/data/assessment !"
      ],
      "execution_count": 0,
      "outputs": [
        {
          "output_type": "stream",
          "text": [
            "/content/gdrive/My Drive/data/assessment !\n"
          ],
          "name": "stdout"
        }
      ]
    },
    {
      "cell_type": "code",
      "metadata": {
        "id": "hiiMjwJog1Jz",
        "colab_type": "code",
        "outputId": "0acd3866-64ef-4d5c-8ff7-35ae2a144da1",
        "colab": {
          "base_uri": "https://localhost:8080/",
          "height": 408
        }
      },
      "source": [
        "ls"
      ],
      "execution_count": 0,
      "outputs": [
        {
          "output_type": "stream",
          "text": [
            " ANN.ipynb\n",
            "'Handcrafted Feature Extraction_ Part-1.ipynb'\n",
            "'Handcrafted Feature Extraction_ Part-1-Solution.ipynb'\n",
            "'Handcrafted Feature Extraction_ Part-2-Solution.ipynb'\n",
            " KNN-HOG.ipynb\n",
            " knn-LBP.ipynb\n",
            " LogisticRegression-NeuralNetwork-Part-1-Solution.ipynb\n",
            " \u001b[0m\u001b[01;34mMnist\u001b[0m/\n",
            "'Python-additional-warmup-solution(1).ipynb'\n",
            " SVM-HOG.ipynb\n",
            " SVM-LBP.ipynb\n",
            " \u001b[01;34mt10k-images-idx3-ubyte\u001b[0m/\n",
            " t10k-images-idx3-ubyte.gz\n",
            " \u001b[01;34mt10k-labels-idx1-ubyte\u001b[0m/\n",
            " t10k-labels-idx1-ubyte.gz\n",
            " \u001b[01;34mtrain-images-idx3-ubyte\u001b[0m/\n",
            " train-images-idx3-ubyte.gz\n",
            " \u001b[01;34mtrain-labels-idx1-ubyte\u001b[0m/\n",
            " train-labels-idx1-ubyte.gz\n",
            " Week3-Lab2-EdgeDetection-Solution.ipynb\n",
            " Week3-Lab2-MachineLearning-Solution.ipynb\n",
            " Week5-LogisticRegression-NeuralNetwork-Part-2-Solution.ipynb\n",
            "'Week6-ConvolutionalNeuralNetworks(CNNs)-Solution.ipynb'\n"
          ],
          "name": "stdout"
        }
      ]
    },
    {
      "cell_type": "markdown",
      "metadata": {
        "id": "eDdjY3rHgKvV",
        "colab_type": "text"
      },
      "source": [
        "Use the utility function to load the dataset and split it into train and test."
      ]
    },
    {
      "cell_type": "code",
      "metadata": {
        "id": "bd5l4WAigLJv",
        "colab_type": "code",
        "colab": {}
      },
      "source": [
        "X_train, y_train = load_mnist('/content/gdrive/My Drive/data/assessment !', kind='train')\n",
        "X_test, y_test = load_mnist('/content/gdrive/My Drive/data/assessment !', kind='t10k')\n",
        "# initialize the label names from Fashion MNIST github repository\n",
        "\n",
        "labelNames = [\"top\", \"trouser\", \"pullover\", \"dress\", \"coat\",\n",
        "\t\"sandal\", \"shirt\", \"sneaker\", \"bag\", \"ankle boot\"]"
      ],
      "execution_count": 0,
      "outputs": []
    },
    {
      "cell_type": "code",
      "metadata": {
        "id": "0SZscP9VgMPQ",
        "colab_type": "code",
        "outputId": "613f2258-88c8-4195-cd29-777ccd106acd",
        "colab": {
          "base_uri": "https://localhost:8080/",
          "height": 34
        }
      },
      "source": [
        "np.shape(X_train)\n",
        "np.shape(X_test)"
      ],
      "execution_count": 0,
      "outputs": [
        {
          "output_type": "execute_result",
          "data": {
            "text/plain": [
              "(10000, 784)"
            ]
          },
          "metadata": {
            "tags": []
          },
          "execution_count": 48
        }
      ]
    },
    {
      "cell_type": "markdown",
      "metadata": {
        "id": "bNb5wCSvgOhs",
        "colab_type": "text"
      },
      "source": [
        "Reshaping the feature vector back into the 28X28 image"
      ]
    },
    {
      "cell_type": "code",
      "metadata": {
        "id": "Wa9bb0i7gNRg",
        "colab_type": "code",
        "outputId": "729178f1-2ce5-4fd6-ab4c-eeb84b0b59fb",
        "colab": {
          "base_uri": "https://localhost:8080/",
          "height": 51
        }
      },
      "source": [
        "X_train=X_train.reshape(-1,28,28)\n",
        "X_test=X_test.reshape(-1,28,28)\n",
        "\n",
        "# print the size of the result reshaped train and test data splits\n",
        "\n",
        "print(\"Train dataset after reshaping:{}\".format(np.shape(X_train)))\n",
        "print(\"Test dataset after reshaping :{}\".format(np.shape(X_test)))"
      ],
      "execution_count": 0,
      "outputs": [
        {
          "output_type": "stream",
          "text": [
            "Train dataset after reshaping:(60000, 28, 28)\n",
            "Test dataset after reshaping :(10000, 28, 28)\n"
          ],
          "name": "stdout"
        }
      ]
    },
    {
      "cell_type": "markdown",
      "metadata": {
        "id": "RcvHH3-1gTFn",
        "colab_type": "text"
      },
      "source": [
        "Visualization of Dataset"
      ]
    },
    {
      "cell_type": "code",
      "metadata": {
        "id": "Oy_JT6rpgSDK",
        "colab_type": "code",
        "outputId": "894beb2d-6216-4540-b76f-803a1be82a5d",
        "colab": {
          "base_uri": "https://localhost:8080/",
          "height": 336
        }
      },
      "source": [
        "# view few images and print its corresponding label\n",
        "img_index = 10\n",
        "fig = plt.figure()\n",
        "ax1 = fig.add_subplot(2,2,1)\n",
        "ax1.axis('off')\n",
        "ax1.imshow(X_train[img_index])\n",
        "print(labelNames[y_train[img_index]])\n",
        "\n",
        "ax2 = fig.add_subplot(2,2,2)\n",
        "ax2.axis('off')\n",
        "img_index = 1000\n",
        "ax2.imshow(X_train[img_index])\n",
        "print(labelNames[y_train[img_index]])\n",
        "\n",
        "ax2 = fig.add_subplot(2,2,3)\n",
        "ax2.axis('off')\n",
        "img_index = 20000\n",
        "ax2.imshow(X_train[img_index])\n",
        "print(labelNames[y_train[img_index]])\n",
        "\n",
        "ax2 = fig.add_subplot(2,2,4)\n",
        "ax2.axis('off')\n",
        "img_index = 30000\n",
        "ax2.imshow(X_train[img_index])\n",
        "print(labelNames[y_train[img_index]])"
      ],
      "execution_count": 0,
      "outputs": [
        {
          "output_type": "stream",
          "text": [
            "top\n",
            "trouser\n",
            "sneaker\n",
            "dress\n"
          ],
          "name": "stdout"
        },
        {
          "output_type": "display_data",
          "data": {
            "image/png": "[encoded data removed]",
            "text/plain": [
              "<Figure size 432x288 with 4 Axes>"
            ]
          },
          "metadata": {
            "tags": []
          }
        }
      ]
    },
    {
      "cell_type": "markdown",
      "metadata": {
        "id": "MqputJS2gXrQ",
        "colab_type": "text"
      },
      "source": [
        "Histogram-of-Oriented Gradient (HOG) feature extraction"
      ]
    },
    {
      "cell_type": "code",
      "metadata": {
        "id": "zJjoba48gZG0",
        "colab_type": "code",
        "outputId": "81773491-d162-4678-cc6d-f0b89763382b",
        "colab": {
          "base_uri": "https://localhost:8080/",
          "height": 34
        }
      },
      "source": [
        "# initialize the data matrix and labels\n",
        "print(\"Extracting features from training dataset...\")\n",
        "data_train = []\n",
        "labels_train = []\n",
        "\n",
        "# loop over the training images\n",
        "for img_index in range(len(X_train)):\n",
        "  # load the image, and extract HOG features\n",
        "  image = (X_train[img_index])\n",
        "  #gray = cv2.cvtColor(image, cv2.COLOR_BGR2GRAY)\n",
        "  H = feature.hog(image, orientations=9, pixels_per_cell=(10, 10),\n",
        "                  cells_per_block=(2, 2), transform_sqrt=True, block_norm=\"L2-Hys\")\n",
        " \n",
        "  # update the data and labels\n",
        "  data_train.append(H)\n",
        "  labels_train.append(y_train[img_index])\n"
      ],
      "execution_count": 0,
      "outputs": [
        {
          "output_type": "stream",
          "text": [
            "Extracting features from training dataset...\n"
          ],
          "name": "stdout"
        }
      ]
    },
    {
      "cell_type": "code",
      "metadata": {
        "id": "yE4Toni0gaYY",
        "colab_type": "code",
        "outputId": "e50c6e3b-2360-4882-cab0-e5187263b312",
        "colab": {
          "base_uri": "https://localhost:8080/",
          "height": 34
        }
      },
      "source": [
        "img_index"
      ],
      "execution_count": 0,
      "outputs": [
        {
          "output_type": "execute_result",
          "data": {
            "text/plain": [
              "59999"
            ]
          },
          "metadata": {
            "tags": []
          },
          "execution_count": 52
        }
      ]
    },
    {
      "cell_type": "markdown",
      "metadata": {
        "id": "ROL6N_RZgbq0",
        "colab_type": "text"
      },
      "source": [
        "KNN Train"
      ]
    },
    {
      "cell_type": "markdown",
      "metadata": {
        "id": "0lC-C3yMmT3z",
        "colab_type": "text"
      },
      "source": [
        "Step-1: Create the training and test dataset"
      ]
    },
    {
      "cell_type": "code",
      "metadata": {
        "id": "eGDte8x4h1LD",
        "colab_type": "code",
        "colab": {}
      },
      "source": [
        "X,y = data_train,labels_train"
      ],
      "execution_count": 0,
      "outputs": []
    },
    {
      "cell_type": "code",
      "metadata": {
        "id": "Mln6MxYlh3RN",
        "colab_type": "code",
        "colab": {}
      },
      "source": [
        "# Divided the dataset into train and test\n",
        "X_train,X_test,y_train,y_test=train_test_split(X, y, test_size=0.7,random_state=100)"
      ],
      "execution_count": 0,
      "outputs": []
    },
    {
      "cell_type": "code",
      "metadata": {
        "id": "fgdFwFuvh5lu",
        "colab_type": "code",
        "colab": {}
      },
      "source": [
        "clf=KNeighborsClassifier(n_neighbors=1)"
      ],
      "execution_count": 0,
      "outputs": []
    },
    {
      "cell_type": "code",
      "metadata": {
        "id": "Qgsp70_xh72B",
        "colab_type": "code",
        "outputId": "a5d66e4d-96f6-4432-c844-65261eb39a3b",
        "colab": {
          "base_uri": "https://localhost:8080/",
          "height": 68
        }
      },
      "source": [
        "# Fit the model, clf, to the training set.\n",
        "clf.fit(data_train,labels_train)"
      ],
      "execution_count": 0,
      "outputs": [
        {
          "output_type": "execute_result",
          "data": {
            "text/plain": [
              "KNeighborsClassifier(algorithm='auto', leaf_size=30, metric='minkowski',\n",
              "           metric_params=None, n_jobs=None, n_neighbors=1, p=2,\n",
              "           weights='uniform')"
            ]
          },
          "metadata": {
            "tags": []
          },
          "execution_count": 56
        }
      ]
    },
    {
      "cell_type": "code",
      "metadata": {
        "id": "nkd69RMqgdCh",
        "colab_type": "code",
        "outputId": "2855c92d-c840-4a0e-86ed-10fdcec5648c",
        "colab": {
          "base_uri": "https://localhost:8080/",
          "height": 34
        }
      },
      "source": [
        "# Calculate the predictions for y_test with the clf model\n",
        "y_predicted=clf.predict(X_test)\n",
        "print(\"Test set predictions: {}\".format(clf.predict(X_test)))"
      ],
      "execution_count": 0,
      "outputs": [
        {
          "output_type": "stream",
          "text": [
            "Test set predictions: [8 6 6 ... 4 1 9]\n"
          ],
          "name": "stdout"
        }
      ]
    },
    {
      "cell_type": "code",
      "metadata": {
        "id": "HbNrEfJOh-64",
        "colab_type": "code",
        "outputId": "50f59606-40fc-42c4-8e91-2455eaa82384",
        "colab": {
          "base_uri": "https://localhost:8080/",
          "height": 34
        }
      },
      "source": [
        "print(\"Test set Accuracy: {:.2f}\".format(clf.score(X_test,y_test)))"
      ],
      "execution_count": 0,
      "outputs": [
        {
          "output_type": "stream",
          "text": [
            "Test set Accuracy: 1.00\n"
          ],
          "name": "stdout"
        }
      ]
    },
    {
      "cell_type": "code",
      "metadata": {
        "id": "wCPL9FykiAoV",
        "colab_type": "code",
        "outputId": "291100a9-8b79-4ace-bc8c-59e4fd4cd945",
        "colab": {
          "base_uri": "https://localhost:8080/",
          "height": 187
        }
      },
      "source": [
        "print(metrics.confusion_matrix(y_test, y_predicted))"
      ],
      "execution_count": 0,
      "outputs": [
        {
          "output_type": "stream",
          "text": [
            "[[4225    0    0    0    0    0    0    0    0    0]\n",
            " [   0 4251    0    0    0    0    0    0    0    0]\n",
            " [   0    0 4254    0    0    0    0    0    0    0]\n",
            " [   0    0    0 4237    0    0    0    0    0    0]\n",
            " [   0    0    0    0 4221    0    0    0    0    0]\n",
            " [   0    0    0    0    0 4166    0    0    0    0]\n",
            " [   0    0    0    0    0    0 4136    0    0    0]\n",
            " [   0    0    0    0    0    0    0 4179    0    0]\n",
            " [   0    0    0    0    0    0    0    0 4166    0]\n",
            " [   0    0    0    0    0    0    0    0    0 4165]]\n"
          ],
          "name": "stdout"
        }
      ]
    },
    {
      "cell_type": "code",
      "metadata": {
        "id": "CoCffQktiBz4",
        "colab_type": "code",
        "outputId": "06144324-af8b-4688-be53-d44358ff1b64",
        "colab": {
          "base_uri": "https://localhost:8080/",
          "height": 51
        }
      },
      "source": [
        "## Hint use clf.score()\n",
        "acc_train = clf.score(X_train, y_train)\n",
        "print('Train set accuracy: ', acc_train)\n",
        "\n",
        "## Hint use clf.score()\n",
        "acc_test = clf.score(X_test, y_test)\n",
        "print('Test set accuracy: ', acc_test)"
      ],
      "execution_count": 0,
      "outputs": [
        {
          "output_type": "stream",
          "text": [
            "Train set accuracy:  1.0\n",
            "Test set accuracy:  1.0\n"
          ],
          "name": "stdout"
        }
      ]
    }
  ]
}