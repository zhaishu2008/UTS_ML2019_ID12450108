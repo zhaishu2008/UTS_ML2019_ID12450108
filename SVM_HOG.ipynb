{
  "nbformat": 4,
  "nbformat_minor": 0,
  "metadata": {
    "colab": {
      "name": "SVM-HOG.ipynb",
      "provenance": [],
      "include_colab_link": true
    },
    "kernelspec": {
      "name": "python3",
      "display_name": "Python 3"
    }
  },
  "cells": [
    {
      "cell_type": "markdown",
      "metadata": {
        "id": "view-in-github",
        "colab_type": "text"
      },
      "source": [
        "<a href=\"https://colab.research.google.com/github/zhaishu2008/UTS_ML2019_ID12450108/blob/master/SVM_HOG.ipynb\" target=\"_parent\"><img src=\"https://colab.research.google.com/assets/colab-badge.svg\" alt=\"Open In Colab\"/></a>"
      ]
    },
    {
      "cell_type": "code",
      "metadata": {
        "id": "0826WBioeZM4",
        "colab_type": "code",
        "colab": {}
      },
      "source": [
        "# encoding: utf-8"
      ],
      "execution_count": 0,
      "outputs": []
    },
    {
      "cell_type": "markdown",
      "metadata": {
        "id": "vaI4YFfaellQ",
        "colab_type": "text"
      },
      "source": [
        "Step 1: Import required packages"
      ]
    },
    {
      "cell_type": "code",
      "metadata": {
        "id": "u5fovY_hehwc",
        "colab_type": "code",
        "colab": {}
      },
      "source": [
        "import numpy as np\n",
        "import matplotlib.pyplot as plt\n",
        "from skimage import feature # This pacakge is used for LBP feature extraction\n",
        "from sklearn import svm # This pacakge is used for svm classification\n",
        "from sklearn.utils import shuffle\n",
        "from sklearn import metrics\n",
        "from sklearn.metrics import accuracy_score\n",
        "%matplotlib inline\n",
        "import cv2\n",
        "import seaborn as sns # This pacakge is used for better visualization of data (e.g confusion matrix)"
      ],
      "execution_count": 0,
      "outputs": []
    },
    {
      "cell_type": "markdown",
      "metadata": {
        "id": "G5BxoCbveqAK",
        "colab_type": "text"
      },
      "source": [
        "## **Connect to My Drive**\n",
        "\n"
      ]
    },
    {
      "cell_type": "code",
      "metadata": {
        "id": "_6OXq3T-e6kp",
        "colab_type": "code",
        "outputId": "3682e038-3657-43ca-ee69-daea4fc64646",
        "colab": {
          "base_uri": "https://localhost:8080/",
          "height": 34
        }
      },
      "source": [
        "from google.colab import drive\n",
        "drive.mount('/content/gdrive')"
      ],
      "execution_count": 0,
      "outputs": [
        {
          "output_type": "stream",
          "text": [
            "Drive already mounted at /content/gdrive; to attempt to forcibly remount, call drive.mount(\"/content/gdrive\", force_remount=True).\n"
          ],
          "name": "stdout"
        }
      ]
    },
    {
      "cell_type": "code",
      "metadata": {
        "id": "d7ep9fJbe8cA",
        "colab_type": "code",
        "colab": {}
      },
      "source": [
        "def load_mnist(path, kind='train'):\n",
        "    import os\n",
        "    import gzip\n",
        "    import numpy as np\n",
        "\n",
        "    \"\"\"Load MNIST data from `path`\"\"\"\n",
        "    labels_path = os.path.join(path,\n",
        "                               '%s-labels-idx1-ubyte.gz'\n",
        "                               % kind)\n",
        "    images_path = os.path.join(path,\n",
        "                               '%s-images-idx3-ubyte.gz'\n",
        "                               % kind)\n",
        "\n",
        "    with gzip.open(labels_path, 'rb') as lbpath:\n",
        "        labels = np.frombuffer(lbpath.read(), dtype=np.uint8,\n",
        "                               offset=8)\n",
        "\n",
        "    with gzip.open(images_path, 'rb') as imgpath:\n",
        "        images = np.frombuffer(imgpath.read(), dtype=np.uint8,\n",
        "                               offset=16).reshape(len(labels), 784)\n",
        "\n",
        "    return images, labels"
      ],
      "execution_count": 0,
      "outputs": []
    },
    {
      "cell_type": "code",
      "metadata": {
        "id": "fKdJ3lD4e_1v",
        "colab_type": "code",
        "outputId": "f1de3785-dc0d-476f-e360-cfe65891217e",
        "colab": {
          "base_uri": "https://localhost:8080/",
          "height": 34
        }
      },
      "source": [
        "cd /content/gdrive/My Drive/data/assessment !"
      ],
      "execution_count": 0,
      "outputs": [
        {
          "output_type": "stream",
          "text": [
            "/content/gdrive/My Drive/data/assessment !\n"
          ],
          "name": "stdout"
        }
      ]
    },
    {
      "cell_type": "code",
      "metadata": {
        "id": "hiiMjwJog1Jz",
        "colab_type": "code",
        "outputId": "dd0680ba-e7c4-4272-face-abb67b2050ff",
        "colab": {
          "base_uri": "https://localhost:8080/",
          "height": 425
        }
      },
      "source": [
        "ls"
      ],
      "execution_count": 0,
      "outputs": [
        {
          "output_type": "stream",
          "text": [
            " ANN.ipynb\n",
            " gradient_data\n",
            "'Handcrafted Feature Extraction_ Part-1.ipynb'\n",
            "'Handcrafted Feature Extraction_ Part-1-Solution.ipynb'\n",
            "'Handcrafted Feature Extraction_ Part-2-Solution.ipynb'\n",
            " KNN-HOG.ipynb\n",
            " knn-LBP.ipynb\n",
            " LogisticRegression-NeuralNetwork-Part-1-Solution.ipynb\n",
            " \u001b[0m\u001b[01;34mMnist\u001b[0m/\n",
            "'Python-additional-warmup-solution(1).ipynb'\n",
            " SVM-HOG.ipynb\n",
            " SVM-LBP.ipynb\n",
            " \u001b[01;34mt10k-images-idx3-ubyte\u001b[0m/\n",
            " t10k-images-idx3-ubyte.gz\n",
            " \u001b[01;34mt10k-labels-idx1-ubyte\u001b[0m/\n",
            " t10k-labels-idx1-ubyte.gz\n",
            " \u001b[01;34mtrain-images-idx3-ubyte\u001b[0m/\n",
            " train-images-idx3-ubyte.gz\n",
            " \u001b[01;34mtrain-labels-idx1-ubyte\u001b[0m/\n",
            " train-labels-idx1-ubyte.gz\n",
            " Week3-Lab2-EdgeDetection-Solution.ipynb\n",
            " Week3-Lab2-MachineLearning-Solution.ipynb\n",
            " Week5-LogisticRegression-NeuralNetwork-Part-2-Solution.ipynb\n",
            "'Week6-ConvolutionalNeuralNetworks(CNNs)-Solution.ipynb'\n"
          ],
          "name": "stdout"
        }
      ]
    },
    {
      "cell_type": "markdown",
      "metadata": {
        "id": "eDdjY3rHgKvV",
        "colab_type": "text"
      },
      "source": [
        "Use the utility function to load the dataset and split it into train and test."
      ]
    },
    {
      "cell_type": "code",
      "metadata": {
        "id": "bd5l4WAigLJv",
        "colab_type": "code",
        "colab": {}
      },
      "source": [
        "X_train, y_train = load_mnist('/content/gdrive/My Drive/data/assessment !', kind='train')\n",
        "X_test, y_test = load_mnist('/content/gdrive/My Drive/data/assessment !', kind='t10k')\n",
        "# initialize the label names from Fashion MNIST github repository\n",
        "\n",
        "labelNames = [\"top\", \"trouser\", \"pullover\", \"dress\", \"coat\",\n",
        "\t\"sandal\", \"shirt\", \"sneaker\", \"bag\", \"ankle boot\"]"
      ],
      "execution_count": 0,
      "outputs": []
    },
    {
      "cell_type": "code",
      "metadata": {
        "id": "0SZscP9VgMPQ",
        "colab_type": "code",
        "outputId": "9427aa03-f077-4a51-cc2f-d73700ce5ba2",
        "colab": {
          "base_uri": "https://localhost:8080/",
          "height": 34
        }
      },
      "source": [
        "np.shape(X_train)\n",
        "np.shape(X_test)"
      ],
      "execution_count": 0,
      "outputs": [
        {
          "output_type": "execute_result",
          "data": {
            "text/plain": [
              "(10000, 784)"
            ]
          },
          "metadata": {
            "tags": []
          },
          "execution_count": 21
        }
      ]
    },
    {
      "cell_type": "markdown",
      "metadata": {
        "id": "bNb5wCSvgOhs",
        "colab_type": "text"
      },
      "source": [
        "Reshaping the feature vector back into the 28X28 image"
      ]
    },
    {
      "cell_type": "code",
      "metadata": {
        "id": "Wa9bb0i7gNRg",
        "colab_type": "code",
        "outputId": "2b90a2c7-bb6e-4378-e2d5-0246fd0f37df",
        "colab": {
          "base_uri": "https://localhost:8080/",
          "height": 51
        }
      },
      "source": [
        "X_train=X_train.reshape(-1,28,28)\n",
        "X_test=X_test.reshape(-1,28,28)\n",
        "\n",
        "# print the size of the result reshaped train and test data splits\n",
        "\n",
        "print(\"Train dataset after reshaping:{}\".format(np.shape(X_train)))\n",
        "print(\"Test dataset after reshaping :{}\".format(np.shape(X_test)))"
      ],
      "execution_count": 0,
      "outputs": [
        {
          "output_type": "stream",
          "text": [
            "Train dataset after reshaping:(60000, 28, 28)\n",
            "Test dataset after reshaping :(10000, 28, 28)\n"
          ],
          "name": "stdout"
        }
      ]
    },
    {
      "cell_type": "markdown",
      "metadata": {
        "id": "RcvHH3-1gTFn",
        "colab_type": "text"
      },
      "source": [
        "Visualization of Dataset"
      ]
    },
    {
      "cell_type": "code",
      "metadata": {
        "id": "Oy_JT6rpgSDK",
        "colab_type": "code",
        "outputId": "e956526e-3a89-4500-edb5-3797c76926cb",
        "colab": {
          "base_uri": "https://localhost:8080/",
          "height": 336
        }
      },
      "source": [
        "# view few images and print its corresponding label\n",
        "img_index = 10\n",
        "fig = plt.figure()\n",
        "ax1 = fig.add_subplot(2,2,1)\n",
        "ax1.axis('off')\n",
        "ax1.imshow(X_train[img_index])\n",
        "print(labelNames[y_train[img_index]])\n",
        "\n",
        "ax2 = fig.add_subplot(2,2,2)\n",
        "ax2.axis('off')\n",
        "img_index = 1000\n",
        "ax2.imshow(X_train[img_index])\n",
        "print(labelNames[y_train[img_index]])\n",
        "\n",
        "ax2 = fig.add_subplot(2,2,3)\n",
        "ax2.axis('off')\n",
        "img_index = 20000\n",
        "ax2.imshow(X_train[img_index])\n",
        "print(labelNames[y_train[img_index]])\n",
        "\n",
        "ax2 = fig.add_subplot(2,2,4)\n",
        "ax2.axis('off')\n",
        "img_index = 30000\n",
        "ax2.imshow(X_train[img_index])\n",
        "print(labelNames[y_train[img_index]])"
      ],
      "execution_count": 0,
      "outputs": [
        {
          "output_type": "stream",
          "text": [
            "top\n",
            "trouser\n",
            "sneaker\n",
            "dress\n"
          ],
          "name": "stdout"
        },
        {
          "output_type": "display_data",
          "data": {
            "image/png": "[encoded data removed]",
            "text/plain": [
              "<Figure size 432x288 with 4 Axes>"
            ]
          },
          "metadata": {
            "tags": []
          }
        }
      ]
    },
    {
      "cell_type": "markdown",
      "metadata": {
        "id": "MqputJS2gXrQ",
        "colab_type": "text"
      },
      "source": [
        "Histogram-of-Oriented Gradient (HOG) feature extraction\n"
      ]
    },
    {
      "cell_type": "code",
      "metadata": {
        "id": "zJjoba48gZG0",
        "colab_type": "code",
        "outputId": "769699d3-45c5-4e8b-8010-24a3e6f4f539",
        "colab": {
          "base_uri": "https://localhost:8080/",
          "height": 68
        }
      },
      "source": [
        "# initialize the data matrix and labels\n",
        "print(\"Extracting features from training dataset...\")\n",
        "data_train = []\n",
        "labels_train = []\n",
        "\n",
        "# loop over the training images\n",
        "for img_index in range(len(X_train)):\n",
        "  # load the image, and extract HOG features\n",
        "  image = (X_train[img_index])\n",
        "  #gray = cv2.cvtColor(image, cv2.COLOR_BGR2GRAY)\n",
        "  H = feature.hog(image, orientations=9, pixels_per_cell=(10, 10),\n",
        "                  cells_per_block=(2, 2), transform_sqrt=True, block_norm=\"L2-Hys\")\n",
        " \n",
        "  # update the data and labels\n",
        "  data_train.append(H)\n",
        "  labels_train.append(y_train[img_index])\n",
        "\n",
        "print(np.shape(data_train))\n",
        "print(np.shape(labels_train))"
      ],
      "execution_count": 0,
      "outputs": [
        {
          "output_type": "stream",
          "text": [
            "Extracting features from training dataset...\n",
            "(60000, 36)\n",
            "(60000,)\n"
          ],
          "name": "stdout"
        }
      ]
    },
    {
      "cell_type": "code",
      "metadata": {
        "id": "yE4Toni0gaYY",
        "colab_type": "code",
        "outputId": "962cc8fe-0bf2-4a9e-c430-2bfb54656a7e",
        "colab": {
          "base_uri": "https://localhost:8080/",
          "height": 34
        }
      },
      "source": [
        "img_index"
      ],
      "execution_count": 0,
      "outputs": [
        {
          "output_type": "execute_result",
          "data": {
            "text/plain": [
              "59999"
            ]
          },
          "metadata": {
            "tags": []
          },
          "execution_count": 25
        }
      ]
    },
    {
      "cell_type": "markdown",
      "metadata": {
        "id": "ROL6N_RZgbq0",
        "colab_type": "text"
      },
      "source": [
        "Training Classifier using SVM multiclass classifier"
      ]
    },
    {
      "cell_type": "code",
      "metadata": {
        "id": "xQAkQsDhgcla",
        "colab_type": "code",
        "outputId": "c7a06288-7d27-4465-f885-3363d9d71c62",
        "colab": {
          "base_uri": "https://localhost:8080/",
          "height": 139
        }
      },
      "source": [
        "model = svm.SVC(kernel='rbf',C=1.0, random_state=100) # rbf Kernel\n",
        "model.fit(data_train, labels_train)"
      ],
      "execution_count": 0,
      "outputs": [
        {
          "output_type": "stream",
          "text": [
            "/usr/local/lib/python3.6/dist-packages/sklearn/svm/base.py:196: FutureWarning: The default value of gamma will change from 'auto' to 'scale' in version 0.22 to account better for unscaled features. Set gamma explicitly to 'auto' or 'scale' to avoid this warning.\n",
            "  \"avoid this warning.\", FutureWarning)\n"
          ],
          "name": "stderr"
        },
        {
          "output_type": "execute_result",
          "data": {
            "text/plain": [
              "SVC(C=1.0, cache_size=200, class_weight=None, coef0=0.0,\n",
              "  decision_function_shape='ovr', degree=3, gamma='auto_deprecated',\n",
              "  kernel='rbf', max_iter=-1, probability=False, random_state=100,\n",
              "  shrinking=True, tol=0.001, verbose=False)"
            ]
          },
          "metadata": {
            "tags": []
          },
          "execution_count": 26
        }
      ]
    },
    {
      "cell_type": "code",
      "metadata": {
        "id": "nkd69RMqgdCh",
        "colab_type": "code",
        "outputId": "2ec8f758-c42d-4b62-d7c3-5c62d4434d11",
        "colab": {
          "base_uri": "https://localhost:8080/",
          "height": 34
        }
      },
      "source": [
        "print(\"Train set Accuracy: {:.2f}\".format(model.score(data_train,labels_train)))"
      ],
      "execution_count": 0,
      "outputs": [
        {
          "output_type": "stream",
          "text": [
            "Train set Accuracy: 0.11\n"
          ],
          "name": "stdout"
        }
      ]
    },
    {
      "cell_type": "markdown",
      "metadata": {
        "id": "TScWh_qMgfkZ",
        "colab_type": "text"
      },
      "source": [
        " Evaluation of trained model on test dataset"
      ]
    },
    {
      "cell_type": "code",
      "metadata": {
        "id": "XkxKo9CVgg7w",
        "colab_type": "code",
        "outputId": "f97587b1-e4bd-4fa5-931f-9ed8bc2f48f5",
        "colab": {
          "base_uri": "https://localhost:8080/",
          "height": 68
        }
      },
      "source": [
        "# initialize the data matrix and labels\n",
        "print(\"Extracting features from test dataset...\")\n",
        "predict_test = []\n",
        "labels_test = []\n",
        "data_test=[]\n",
        "# loop over the training images\n",
        "for img_ind in range(len(X_test)):\n",
        "  # load the image, and extract HOG features\n",
        "  img=X_test[img_ind]\n",
        "  H = feature.hog(img, orientations=9, pixels_per_cell=(10, 10),\n",
        "                  cells_per_block=(2, 2), transform_sqrt=True, block_norm=\"L2-Hys\")\n",
        "  pred = model.predict(H.reshape(1, -1))[0]\n",
        "  # update the data and labels\n",
        "  predict_test.append(pred)\n",
        "  data_test.append(H)\n",
        "  \n",
        "  labels_test.append(y_test[img_ind])\n",
        "  \n",
        "print(np.shape(predict_test))\n",
        "print(np.shape(labels_test))"
      ],
      "execution_count": 0,
      "outputs": [
        {
          "output_type": "stream",
          "text": [
            "Extracting features from test dataset...\n",
            "(10000,)\n",
            "(10000,)\n"
          ],
          "name": "stdout"
        }
      ]
    },
    {
      "cell_type": "markdown",
      "metadata": {
        "id": "So0ZEcW9gkbE",
        "colab_type": "text"
      },
      "source": [
        "Experimental Results"
      ]
    },
    {
      "cell_type": "code",
      "metadata": {
        "id": "PSGIasO4geXf",
        "colab_type": "code",
        "outputId": "d344c990-f5f4-43a3-98fa-0ec134d216bd",
        "colab": {
          "base_uri": "https://localhost:8080/",
          "height": 34
        }
      },
      "source": [
        "accuracy = metrics.accuracy_score(labels_test, predict_test)\n",
        "print(\"Accuracy on test dataset:\",accuracy)"
      ],
      "execution_count": 0,
      "outputs": [
        {
          "output_type": "stream",
          "text": [
            "Accuracy on test dataset: 0.0673\n"
          ],
          "name": "stdout"
        }
      ]
    },
    {
      "cell_type": "code",
      "metadata": {
        "id": "88yt2PYugnaN",
        "colab_type": "code",
        "outputId": "3f91b458-eaa3-46a5-fc8f-16964454ce04",
        "colab": {
          "base_uri": "https://localhost:8080/",
          "height": 700
        }
      },
      "source": [
        "# plot the confusion matrix\n",
        "cm  = metrics.confusion_matrix(labels_test, predict_test)\n",
        "print(cm)\n",
        "\n",
        "# Plot confusion matrix using seaborn library\n",
        "plt.figure(figsize=(9,9))\n",
        "sns.heatmap(cm, annot=True, fmt=\".3f\", linewidths=.5, square = True, cmap = 'Blues_r');\n",
        "plt.ylabel('Actual label');\n",
        "plt.xlabel('Predicted label');\n",
        "all_sample_title = 'Accuracy Score: {0}'.format(accuracy)\n",
        "plt.title(all_sample_title, size = 15);"
      ],
      "execution_count": 0,
      "outputs": [
        {
          "output_type": "stream",
          "text": [
            "[[ 71  81   4 312 319   4   5 133  33  18]\n",
            " [112  25  31  47  10 214 693   0   2   1]\n",
            " [165 217 139 246 137   6   1   6 109   6]\n",
            " [ 60 109 141 335  27   3   1  10 278  46]\n",
            " [409   1   3 280   0   5  17   0 256  11]\n",
            " [ 11   2  36 599   4   4   1  49 103  83]\n",
            " [142   0   2 454   1   9  11  17 309  13]\n",
            " [ 54 437  15  96  16   3   1   3  69 334]\n",
            " [ 38  77 135 435  46  10   4  76  22 131]\n",
            " [ 30  33  15 834  19   2   1   5   7  63]]\n"
          ],
          "name": "stdout"
        },
        {
          "output_type": "display_data",
          "data": {
            "image/png": "[encoded data removed]",
            "text/plain": [
              "<Figure size 648x648 with 2 Axes>"
            ]
          },
          "metadata": {
            "tags": []
          }
        }
      ]
    },
    {
      "cell_type": "markdown",
      "metadata": {
        "id": "Wf86pF0agozA",
        "colab_type": "text"
      },
      "source": [
        "Visualization of results"
      ]
    },
    {
      "cell_type": "code",
      "metadata": {
        "id": "WrI4r11Pgp2J",
        "colab_type": "code",
        "colab": {}
      },
      "source": [
        "images = []\n",
        "orig_labels=[]\n",
        "# randomly select a few testing fashion items\n",
        "for i in np.random.choice(np.arange(0, len(y_test)), size=(16,)):\n",
        "  # classify the clothing\n",
        "  test_img = (X_test[i])\n",
        "  H1 = feature.hog(test_img, orientations=9, pixels_per_cell=(10, 10),\n",
        "                  cells_per_block=(2, 2), transform_sqrt=True, block_norm=\"L2-Hys\")\n",
        "  pred = model.predict(H1.reshape(1, -1))[0]\n",
        "  #prediction = model.predict(test_img.reshape(1, -1))\n",
        "  label = labelNames[pred]\n",
        "  orig_labels.append(labelNames[y_test[i]])\n",
        "  color = (0, 255, 0)\n",
        "  test_img = cv2.merge([test_img] * 3)\n",
        "  test_img = cv2.resize(test_img, (96, 96), interpolation=cv2.INTER_LINEAR)\n",
        "  cv2.putText(test_img, label, (5, 20), cv2.FONT_HERSHEY_SIMPLEX, 0.50, color, 2)\n",
        "  images.append(test_img)"
      ],
      "execution_count": 0,
      "outputs": []
    },
    {
      "cell_type": "code",
      "metadata": {
        "id": "FSIkdx9ogqvr",
        "colab_type": "code",
        "outputId": "a545c971-f5bf-4435-e417-90d45832ffec",
        "colab": {
          "base_uri": "https://localhost:8080/",
          "height": 34
        }
      },
      "source": [
        "orig_labels[1]"
      ],
      "execution_count": 0,
      "outputs": [
        {
          "output_type": "execute_result",
          "data": {
            "text/plain": [
              "'ankle boot'"
            ]
          },
          "metadata": {
            "tags": []
          },
          "execution_count": 32
        }
      ]
    },
    {
      "cell_type": "code",
      "metadata": {
        "id": "ZZ1CcmiFgrrK",
        "colab_type": "code",
        "outputId": "07371108-ed45-4ad3-f038-66e702d0b361",
        "colab": {
          "base_uri": "https://localhost:8080/",
          "height": 337
        }
      },
      "source": [
        "fig = plt.figure()\n",
        "ax1 = fig.add_subplot(2,2,1)\n",
        "ax1.imshow(images[1])\n",
        "print(orig_labels[1])\n",
        "ax2 = fig.add_subplot(2,2,2)\n",
        "ax2.imshow(images[2])\n",
        "print(orig_labels[2])\n",
        "ax3 = fig.add_subplot(2,2,3)\n",
        "ax3.imshow(images[3])\n",
        "print(orig_labels[3])\n",
        "ax4 = fig.add_subplot(2,2,4)\n",
        "ax4.imshow(images[4])\n",
        "print(orig_labels[4])"
      ],
      "execution_count": 0,
      "outputs": [
        {
          "output_type": "stream",
          "text": [
            "ankle boot\n",
            "shirt\n",
            "dress\n",
            "ankle boot\n"
          ],
          "name": "stdout"
        },
        {
          "output_type": "display_data",
          "data": {
            "image/png": "[encoded data removed]",
            "text/plain": [
              "<Figure size 432x288 with 4 Axes>"
            ]
          },
          "metadata": {
            "tags": []
          }
        }
      ]
    }
  ]
}