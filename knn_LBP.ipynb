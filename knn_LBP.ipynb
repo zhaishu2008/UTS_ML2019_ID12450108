{
  "nbformat": 4,
  "nbformat_minor": 0,
  "metadata": {
    "colab": {
      "name": "knn-LBP.ipynb",
      "provenance": [],
      "include_colab_link": true
    },
    "kernelspec": {
      "name": "python3",
      "display_name": "Python 3"
    },
    "accelerator": "GPU"
  },
  "cells": [
    {
      "cell_type": "markdown",
      "metadata": {
        "id": "view-in-github",
        "colab_type": "text"
      },
      "source": [
        "<a href=\"https://colab.research.google.com/github/zhaishu2008/UTS_ML2019_ID12450108/blob/master/knn_LBP.ipynb\" target=\"_parent\"><img src=\"https://colab.research.google.com/assets/colab-badge.svg\" alt=\"Open In Colab\"/></a>"
      ]
    },
    {
      "cell_type": "code",
      "metadata": {
        "id": "bBlhjGU48uSm",
        "colab_type": "code",
        "colab": {}
      },
      "source": [
        "# encoding: utf-8"
      ],
      "execution_count": 0,
      "outputs": []
    },
    {
      "cell_type": "code",
      "metadata": {
        "id": "e2v4fNGB81Uc",
        "colab_type": "code",
        "colab": {}
      },
      "source": [
        "import numpy as np\n",
        "%matplotlib inline\n",
        "import matplotlib.pyplot as plt\n",
        "# importing a module for splitting a dataset into train, and test\n",
        "from sklearn.model_selection import train_test_split\n",
        "# import Knn classifier\n",
        "from sklearn.neighbors import KNeighborsClassifier\n",
        "# confusion metric\n",
        "from sklearn import metrics\n",
        "from skimage import feature"
      ],
      "execution_count": 0,
      "outputs": []
    },
    {
      "cell_type": "markdown",
      "metadata": {
        "id": "SRg5g3w86UOM",
        "colab_type": "text"
      },
      "source": [
        "## **Connect to My Drive**\n",
        "\n"
      ]
    },
    {
      "cell_type": "code",
      "metadata": {
        "id": "AN6VAikz9gNi",
        "colab_type": "code",
        "outputId": "708a8086-dbc4-40d2-c1a1-92913075e306",
        "colab": {
          "base_uri": "https://localhost:8080/",
          "height": 34
        }
      },
      "source": [
        "from google.colab import drive\n",
        "drive.mount('/content/gdrive')"
      ],
      "execution_count": 0,
      "outputs": [
        {
          "output_type": "stream",
          "text": [
            "Drive already mounted at /content/gdrive; to attempt to forcibly remount, call drive.mount(\"/content/gdrive\", force_remount=True).\n"
          ],
          "name": "stdout"
        }
      ]
    },
    {
      "cell_type": "code",
      "metadata": {
        "id": "q2YgKute-ITk",
        "colab_type": "code",
        "colab": {}
      },
      "source": [
        "def load_mnist(path, kind='train'):\n",
        "    import os\n",
        "    import gzip\n",
        "    import numpy as np\n",
        "\n",
        "    \"\"\"Load MNIST data from `path`\"\"\"\n",
        "    labels_path = os.path.join(path,\n",
        "                               '%s-labels-idx1-ubyte.gz'\n",
        "                               % kind)\n",
        "    images_path = os.path.join(path,\n",
        "                               '%s-images-idx3-ubyte.gz'\n",
        "                               % kind)\n",
        "\n",
        "    with gzip.open(labels_path, 'rb') as lbpath:\n",
        "        labels = np.frombuffer(lbpath.read(), dtype=np.uint8,\n",
        "                               offset=8)\n",
        "\n",
        "    with gzip.open(images_path, 'rb') as imgpath:\n",
        "        images = np.frombuffer(imgpath.read(), dtype=np.uint8,\n",
        "                               offset=16).reshape(len(labels), 784)\n",
        "\n",
        "    return images, labels\n"
      ],
      "execution_count": 0,
      "outputs": []
    },
    {
      "cell_type": "code",
      "metadata": {
        "id": "BdSfC-SoCnWs",
        "colab_type": "code",
        "outputId": "c68e89ce-8b8f-40cd-fbf2-69e861867b7e",
        "colab": {
          "base_uri": "https://localhost:8080/",
          "height": 34
        }
      },
      "source": [
        "cd /content/gdrive/My Drive/data/assessment !"
      ],
      "execution_count": 0,
      "outputs": [
        {
          "output_type": "stream",
          "text": [
            "/content/gdrive/My Drive/data/assessment !\n"
          ],
          "name": "stdout"
        }
      ]
    },
    {
      "cell_type": "code",
      "metadata": {
        "id": "SvSNyF-WCqFK",
        "colab_type": "code",
        "outputId": "a594736a-4444-4460-e505-5de1d353c611",
        "colab": {
          "base_uri": "https://localhost:8080/",
          "height": 408
        }
      },
      "source": [
        "ls"
      ],
      "execution_count": 0,
      "outputs": [
        {
          "output_type": "stream",
          "text": [
            " ANN.ipynb\n",
            "'Handcrafted Feature Extraction_ Part-1.ipynb'\n",
            "'Handcrafted Feature Extraction_ Part-1-Solution.ipynb'\n",
            "'Handcrafted Feature Extraction_ Part-2-Solution.ipynb'\n",
            " KNN-HOG.ipynb\n",
            " knn-LBP.ipynb\n",
            " LogisticRegression-NeuralNetwork-Part-1-Solution.ipynb\n",
            " \u001b[0m\u001b[01;34mMnist\u001b[0m/\n",
            "'Python-additional-warmup-solution(1).ipynb'\n",
            " SVM-HOG.ipynb\n",
            " SVM-LBP.ipynb\n",
            " \u001b[01;34mt10k-images-idx3-ubyte\u001b[0m/\n",
            " t10k-images-idx3-ubyte.gz\n",
            " \u001b[01;34mt10k-labels-idx1-ubyte\u001b[0m/\n",
            " t10k-labels-idx1-ubyte.gz\n",
            " \u001b[01;34mtrain-images-idx3-ubyte\u001b[0m/\n",
            " train-images-idx3-ubyte.gz\n",
            " \u001b[01;34mtrain-labels-idx1-ubyte\u001b[0m/\n",
            " train-labels-idx1-ubyte.gz\n",
            " Week3-Lab2-EdgeDetection-Solution.ipynb\n",
            " Week3-Lab2-MachineLearning-Solution.ipynb\n",
            " Week5-LogisticRegression-NeuralNetwork-Part-2-Solution.ipynb\n",
            "'Week6-ConvolutionalNeuralNetworks(CNNs)-Solution.ipynb'\n"
          ],
          "name": "stdout"
        }
      ]
    },
    {
      "cell_type": "code",
      "metadata": {
        "id": "vaNAUVXG3N6G",
        "colab_type": "code",
        "colab": {}
      },
      "source": [
        "X_train, y_train = load_mnist('/content/gdrive/My Drive/data/assessment !', kind='train')\n",
        "X_test, y_test = load_mnist('/content/gdrive/My Drive/data/assessment !', kind='t10k')\n",
        "# initialize the label names from Fashion MNIST github repository\n",
        "\n",
        "labelNames = [\"top\", \"trouser\", \"pullover\", \"dress\", \"coat\",\n",
        "\t\"sandal\", \"shirt\", \"sneaker\", \"bag\", \"ankle boot\"]"
      ],
      "execution_count": 0,
      "outputs": []
    },
    {
      "cell_type": "code",
      "metadata": {
        "id": "zblqCRiW3Q1W",
        "colab_type": "code",
        "outputId": "75003906-5dad-4f06-a535-322556387cf0",
        "colab": {
          "base_uri": "https://localhost:8080/",
          "height": 51
        }
      },
      "source": [
        "print(np.shape(X_train))\n",
        "print(np.shape(X_test))"
      ],
      "execution_count": 0,
      "outputs": [
        {
          "output_type": "stream",
          "text": [
            "(60000, 784)\n",
            "(10000, 784)\n"
          ],
          "name": "stdout"
        }
      ]
    },
    {
      "cell_type": "code",
      "metadata": {
        "id": "sLwFhmcg3Smc",
        "colab_type": "code",
        "outputId": "e5ff3a32-8409-4bb7-ee0c-0ce5c9d21dc0",
        "colab": {
          "base_uri": "https://localhost:8080/",
          "height": 51
        }
      },
      "source": [
        "X_train=X_train.reshape(-1,28,28)\n",
        "X_test=X_test.reshape(-1,28,28)\n",
        "\n",
        "# print the size of the result reshaped train and test data splits\n",
        "\n",
        "print(\"Train dataset after reshaping:{}\".format(np.shape(X_train)))\n",
        "print(\"Test dataset after reshaping :{}\".format(np.shape(X_test)))"
      ],
      "execution_count": 0,
      "outputs": [
        {
          "output_type": "stream",
          "text": [
            "Train dataset after reshaping:(60000, 28, 28)\n",
            "Test dataset after reshaping :(10000, 28, 28)\n"
          ],
          "name": "stdout"
        }
      ]
    },
    {
      "cell_type": "markdown",
      "metadata": {
        "id": "75WENF2l3X-w",
        "colab_type": "text"
      },
      "source": [
        "Visualization of Dataset"
      ]
    },
    {
      "cell_type": "code",
      "metadata": {
        "id": "LT-ILL1A3ViG",
        "colab_type": "code",
        "outputId": "d9a63d8d-41eb-4506-ff2a-6ce5f7a0890c",
        "colab": {
          "base_uri": "https://localhost:8080/",
          "height": 336
        }
      },
      "source": [
        "# view few images and print its corresponding label\n",
        "img_index = 10\n",
        "fig = plt.figure()\n",
        "ax1 = fig.add_subplot(2,2,1)\n",
        "ax1.axis('off')\n",
        "ax1.imshow(X_train[img_index])\n",
        "print(labelNames[y_train[img_index]])\n",
        "\n",
        "ax2 = fig.add_subplot(2,2,2)\n",
        "ax2.axis('off')\n",
        "img_index = 1000\n",
        "ax2.imshow(X_train[img_index])\n",
        "print(labelNames[y_train[img_index]])\n",
        "\n",
        "ax2 = fig.add_subplot(2,2,3)\n",
        "ax2.axis('off')\n",
        "img_index = 20000\n",
        "ax2.imshow(X_train[img_index])\n",
        "print(labelNames[y_train[img_index]])\n",
        "\n",
        "ax2 = fig.add_subplot(2,2,4)\n",
        "ax2.axis('off')\n",
        "img_index = 30000\n",
        "ax2.imshow(X_train[img_index])\n",
        "print(labelNames[y_train[img_index]])"
      ],
      "execution_count": 0,
      "outputs": [
        {
          "output_type": "stream",
          "text": [
            "top\n",
            "trouser\n",
            "sneaker\n",
            "dress\n"
          ],
          "name": "stdout"
        },
        {
          "output_type": "display_data",
          "data": {
            "image/png": "[encoded data removed]",
            "text/plain": [
              "<Figure size 432x288 with 4 Axes>"
            ]
          },
          "metadata": {
            "tags": []
          }
        }
      ]
    },
    {
      "cell_type": "markdown",
      "metadata": {
        "id": "jizMsavE3dBh",
        "colab_type": "text"
      },
      "source": [
        " Local Binary Patterns (LBP) class definition for LBP feature extraction"
      ]
    },
    {
      "cell_type": "code",
      "metadata": {
        "id": "oXoDJ_v-3dpr",
        "colab_type": "code",
        "colab": {}
      },
      "source": [
        "class LocalBinaryPatterns:\n",
        "\tdef __init__(self, numPoints, radius):\n",
        "\t\t# store the number of points and radius\n",
        "\t\tself.numPoints = numPoints\n",
        "\t\tself.radius = radius\n",
        " \n",
        "\tdef LBPfeatures(self, image, eps=1e-7):\n",
        "\t\t# compute the Local Binary Pattern representation\n",
        "\t\t# of the image, and then use the LBP representation\n",
        "\t\t# to build the histogram of patterns\n",
        "\t\tlbp = feature.local_binary_pattern(image, self.numPoints,\n",
        "\t\t\tself.radius, method=\"uniform\")\n",
        "    # Form the histogram\n",
        "\t\t(hist, _) = np.histogram(lbp.ravel(),\n",
        "\t\t\tbins=np.arange(0, self.numPoints + 3),\n",
        "\t\t\trange=(0, self.numPoints + 2))\n",
        " \n",
        "\t\t# normalize the histogram\n",
        "\t\thist = hist.astype(\"float\")\n",
        "\t\thist /= (hist.sum() + eps)\n",
        " \n",
        "\t\t# return the histogram of Local Binary Patterns\n",
        "\t\treturn hist"
      ],
      "execution_count": 0,
      "outputs": []
    },
    {
      "cell_type": "markdown",
      "metadata": {
        "id": "suz0JAb93fJd",
        "colab_type": "text"
      },
      "source": [
        "LBP feature extraction for the whole training dataset"
      ]
    },
    {
      "cell_type": "code",
      "metadata": {
        "id": "Za7FEWVG7BC0",
        "colab_type": "code",
        "colab": {}
      },
      "source": [
        "# Create an object of LocalBinaryPatterns class and initial the parameters.\n",
        "desc = LocalBinaryPatterns(24, 8)\n",
        "data_train = []\n",
        "labels_train = []\n",
        "\n",
        "# loop over the training images\n",
        "for img_index in range(len(X_train)):\n",
        "\t# load the image, convert it to grayscale, and extract LBP features\n",
        "\timage = (X_train[img_index])\n",
        "\thist = desc.LBPfeatures(image)\n",
        " \n",
        "\t# extract the label from the image path, then update the\n",
        "\t# label and data lists\n",
        "\tlabels_train.append(y_train[img_index])\n",
        "\tdata_train.append(hist)\n",
        "  "
      ],
      "execution_count": 0,
      "outputs": []
    },
    {
      "cell_type": "markdown",
      "metadata": {
        "id": "EpVG10SK7Egd",
        "colab_type": "text"
      },
      "source": [
        "KNN Train"
      ]
    },
    {
      "cell_type": "markdown",
      "metadata": {
        "id": "PwLp9uJV7WvN",
        "colab_type": "text"
      },
      "source": [
        "Step-1: Create the training and test dataset"
      ]
    },
    {
      "cell_type": "code",
      "metadata": {
        "id": "dJ4b0QYGxqur",
        "colab_type": "code",
        "colab": {}
      },
      "source": [
        "X,y = data_train,labels_train"
      ],
      "execution_count": 0,
      "outputs": []
    },
    {
      "cell_type": "code",
      "metadata": {
        "id": "2sEo8HR_7Yfn",
        "colab_type": "code",
        "colab": {}
      },
      "source": [
        "# Divided the dataset into train and test\n",
        "X_train,X_test,y_train,y_test=train_test_split(X, y, test_size=0.7,random_state=100)"
      ],
      "execution_count": 0,
      "outputs": []
    },
    {
      "cell_type": "markdown",
      "metadata": {
        "id": "qtqohciG7aUM",
        "colab_type": "text"
      },
      "source": [
        "Step-2: Create an instance of a K-NN model with k"
      ]
    },
    {
      "cell_type": "code",
      "metadata": {
        "id": "RgXHgmn6194x",
        "colab_type": "code",
        "colab": {}
      },
      "source": [
        "clf=KNeighborsClassifier(n_neighbors=1)\n"
      ],
      "execution_count": 0,
      "outputs": []
    },
    {
      "cell_type": "markdown",
      "metadata": {
        "id": "1l2OUAFGeCxe",
        "colab_type": "text"
      },
      "source": [
        "Step-3: Fit the model with training data"
      ]
    },
    {
      "cell_type": "code",
      "metadata": {
        "id": "wRE7O8r-eDT7",
        "colab_type": "code",
        "outputId": "034f1521-33d8-4730-816e-32ca85b7d9cd",
        "colab": {
          "base_uri": "https://localhost:8080/",
          "height": 68
        }
      },
      "source": [
        "# Fit the model, clf, to the training set.\n",
        "clf.fit(X, y)"
      ],
      "execution_count": 0,
      "outputs": [
        {
          "output_type": "execute_result",
          "data": {
            "text/plain": [
              "KNeighborsClassifier(algorithm='auto', leaf_size=30, metric='minkowski',\n",
              "           metric_params=None, n_jobs=None, n_neighbors=1, p=2,\n",
              "           weights='uniform')"
            ]
          },
          "metadata": {
            "tags": []
          },
          "execution_count": 97
        }
      ]
    },
    {
      "cell_type": "markdown",
      "metadata": {
        "id": "ijqFXYD1eFx1",
        "colab_type": "text"
      },
      "source": [
        "Step-4: Make a prediction on the test dataset"
      ]
    },
    {
      "cell_type": "code",
      "metadata": {
        "id": "SaU6Kcq6eHoK",
        "colab_type": "code",
        "outputId": "b82a93b4-525b-420d-9e48-ac23fd804bc6",
        "colab": {
          "base_uri": "https://localhost:8080/",
          "height": 34
        }
      },
      "source": [
        "# Calculate the predictions for y_test with the clf model\n",
        "y_predicted=clf.predict(X_test)\n",
        "print(\"Test set predictions: {}\".format(clf.predict(X_test)))"
      ],
      "execution_count": 0,
      "outputs": [
        {
          "output_type": "stream",
          "text": [
            "Test set predictions: [8 6 6 ... 4 1 9]\n"
          ],
          "name": "stdout"
        }
      ]
    },
    {
      "cell_type": "markdown",
      "metadata": {
        "id": "yojEYgU3efsA",
        "colab_type": "text"
      },
      "source": [
        "Step-5: Compute the accuracy of the K-NN Model"
      ]
    },
    {
      "cell_type": "code",
      "metadata": {
        "id": "RAvIdgyOegsT",
        "colab_type": "code",
        "outputId": "48c4c2fb-5fdf-4511-d06b-96eac5c54c8c",
        "colab": {
          "base_uri": "https://localhost:8080/",
          "height": 34
        }
      },
      "source": [
        "print(\"Test set Accuracy: {:.2f}\".format(clf.score(X_test,y_test)))"
      ],
      "execution_count": 0,
      "outputs": [
        {
          "output_type": "stream",
          "text": [
            "Test set Accuracy: 1.00\n"
          ],
          "name": "stdout"
        }
      ]
    },
    {
      "cell_type": "code",
      "metadata": {
        "id": "2fePenbpeiNO",
        "colab_type": "code",
        "outputId": "ab74f4c2-018d-4c00-f4a1-d402ad9c2ddc",
        "colab": {
          "base_uri": "https://localhost:8080/",
          "height": 187
        }
      },
      "source": [
        "print(metrics.confusion_matrix(y_test, y_predicted))"
      ],
      "execution_count": 0,
      "outputs": [
        {
          "output_type": "stream",
          "text": [
            "[[4215    2    3    0    1    0    0    0    0    4]\n",
            " [   2 4239    1    1    0    1    0    3    3    1]\n",
            " [   0    1 4246    0    3    1    0    0    1    2]\n",
            " [   1    0    2 4222    1    2    5    2    2    0]\n",
            " [   0    1    0    0 4214    1    2    0    1    2]\n",
            " [   1    2    1    0    1 4156    2    0    2    1]\n",
            " [   4    2    1    1    0    0 4125    1    1    1]\n",
            " [   0    0    3    1    0    0    0 4173    0    2]\n",
            " [   0    1    3    1    1    2    0    1 4157    0]\n",
            " [   1    1    2    0    0    1    1    0    0 4159]]\n"
          ],
          "name": "stdout"
        }
      ]
    },
    {
      "cell_type": "code",
      "metadata": {
        "id": "6tJGCbsXeqTy",
        "colab_type": "code",
        "outputId": "f5e45f14-2151-40d7-e5ea-1339bff2d870",
        "colab": {
          "base_uri": "https://localhost:8080/",
          "height": 51
        }
      },
      "source": [
        "## Hint use clf.score()\n",
        "acc_train = clf.score(X_train, y_train)\n",
        "print('Train set accuracy: ', acc_train)\n",
        "\n",
        "\n",
        "## Hint use clf.score()\n",
        "acc_test = clf.score(X_test, y_test)\n",
        "print('Test set accuracy: ', acc_test)"
      ],
      "execution_count": 0,
      "outputs": [
        {
          "output_type": "stream",
          "text": [
            "Train set accuracy:  0.9976111111111111\n",
            "Test set accuracy:  0.9977619047619047\n"
          ],
          "name": "stdout"
        }
      ]
    }
  ]
}